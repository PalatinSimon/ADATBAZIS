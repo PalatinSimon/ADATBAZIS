{
    "metadata": {
        "kernelspec": {
            "name": "SQL",
            "display_name": "SQL",
            "language": "sql"
        },
        "language_info": {
            "name": "sql",
            "version": ""
        }
    },
    "nbformat_minor": 2,
    "nbformat": 4,
    "cells": [
        {
            "cell_type": "code",
            "source": [
                "-- NULL értékek száma és aránya a SZALL_cim oszlopban\r\n",
                "\r\n",
                "SELECT \r\n",
                "    COUNT(*) AS osszes_sor, \r\n",
                "    SUM(CASE WHEN SZALL_CIM IS NULL THEN 1 ELSE 0 END) AS null_db, \r\n",
                "    ROUND(SUM(CASE WHEN SZALL_CIM IS NULL THEN 1 ELSE 0 END) * 100.0 / COUNT(*), 2) AS null_szazalek\r\n",
                "FROM rendeles;"
            ],
            "metadata": {
                "azdata_cell_guid": "1c7fdf40-7ae9-4d1b-bd03-9cf240457cfc",
                "language": "sql"
            },
            "outputs": [],
            "execution_count": null
        },
        {
            "cell_type": "code",
            "source": [
                "--Minimum és maximum a REND_DATUM és SZALL_DATUM oszlopokra\r\n",
                "\r\n",
                "SELECT \r\n",
                "    MIN(REND_DATUM) AS min_rend_datum, \r\n",
                "    MAX(REND_DATUM) AS max_rend_datum,\r\n",
                "    MIN(SZALL_DATUM) AS min_szall_datum, \r\n",
                "    MAX(SZALL_DATUM) AS max_szall_datum\r\n",
                "FROM rendeles;"
            ],
            "metadata": {
                "azdata_cell_guid": "6c5cee50-f35c-4f0b-8257-06d41f1ab96f",
                "language": "sql"
            },
            "outputs": [],
            "execution_count": null
        },
        {
            "cell_type": "code",
            "source": [
                "--Kiugró értékek vizsgálata a SZALL_DATUM és REND_DATUM között (9 napnál hosszabb szaállítás)\r\n",
                "\r\n",
                "SELECT \r\n",
                "    SORSZAM, [LOGIN], REND_DATUM, SZALL_DATUM, \r\n",
                "    DATEDIFF(DAY, REND_DATUM, SZALL_DATUM) AS szallitas_napok\r\n",
                "FROM rendeles\r\n",
                "WHERE DATEDIFF(DAY, REND_DATUM, SZALL_DATUM) > 9;"
            ],
            "metadata": {
                "azdata_cell_guid": "1d3546b8-7539-485a-8f9e-3355513b4e4e",
                "language": "sql"
            },
            "outputs": [],
            "execution_count": null
        },
        {
            "cell_type": "code",
            "source": [
                "--Értékek eloszlása a FIZ_MOD oszlopban\r\n",
                "\r\n",
                "SELECT FIZ_MOD, COUNT(*) AS db, \r\n",
                "    ROUND(COUNT(*) * 100.0 / (SELECT COUNT(*) FROM rendeles), 2) AS szazalek\r\n",
                "FROM rendeles\r\n",
                "GROUP BY FIZ_MOD;"
            ],
            "metadata": {
                "azdata_cell_guid": "5ee1848a-2476-4988-801b-20b5e9b214c8",
                "language": "sql"
            },
            "outputs": [],
            "execution_count": null
        },
        {
            "cell_type": "code",
            "source": [
                "--Értékek eloszlása a SZALL_MOD oszlopban\r\n",
                "\r\n",
                "SELECT SZALL_MOD, COUNT(*) AS db,\r\n",
                "    ROUND(COUNT(*) * 100.0 / (SELECT COUNT(*) FROM rendeles), 2) AS szazalek\r\n",
                "FROM rendeles\r\n",
                "GROUP BY SZALL_MOD;"
            ],
            "metadata": {
                "azdata_cell_guid": "6101b84f-720b-4732-982a-4caff3ff1b39",
                "language": "sql"
            },
            "outputs": [],
            "execution_count": null
        }
    ]
}