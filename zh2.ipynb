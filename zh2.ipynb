{
    "metadata": {
        "kernelspec": {
            "name": "SQL",
            "display_name": "SQL",
            "language": "sql"
        },
        "language_info": {
            "name": "sql",
            "version": ""
        }
    },
    "nbformat_minor": 2,
    "nbformat": 4,
    "cells": [
        {
            "cell_type": "code",
            "source": [
                "--1\r\n",
                "\r\n",
                "SELECT SZOBA_FK, FOGLALAS_PK, \r\n",
                "    DATEDIFF(DAY, METTOL, MEDDIG) AS 'ott volt',\r\n",
                "    LAG(DATEDIFF(DAY, METTOL, MEDDIG),1,0) OVER (PARTITION BY SZOBA_FK ORDER BY METTOL) AS 'elozoleg tolott ido'\r\n",
                "FROM Foglalas;"
            ],
            "metadata": {
                "azdata_cell_guid": "5a14d7c5-f8aa-4637-9a89-655674ee7cfe",
                "language": "sql"
            },
            "outputs": [],
            "execution_count": null
        },
        {
            "cell_type": "code",
            "source": [
                "--2\r\n",
                "\r\n",
                "SELECT v.NEV as 'nev'\r\n",
                "FROM Vendeg v LEFT JOIN Foglalas f ON v.USERNEV = f.UGYFEL_FK\r\n",
                "GROUP BY v.NEV\r\n",
                "HAVING COUNT(*) = 0 OR MAX(DATEDIFF(DAY, f.METTOL, f.MEDDIG)) <= 2;"
            ],
            "metadata": {
                "azdata_cell_guid": "a15cae81-c245-41bf-8ed8-e0c5e4603664",
                "language": "sql"
            },
            "outputs": [],
            "execution_count": null
        }
    ]
}