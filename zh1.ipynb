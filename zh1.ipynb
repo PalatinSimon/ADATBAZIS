{
    "metadata": {
        "kernelspec": {
            "name": "SQL",
            "display_name": "SQL",
            "language": "sql"
        },
        "language_info": {
            "name": "sql",
            "version": ""
        }
    },
    "nbformat_minor": 2,
    "nbformat": 4,
    "cells": [
        {
            "cell_type": "code",
            "source": [
                "--1. Feladat\r\n",
                "SELECT TIPUS as tipus, Round(AVG(CSILLAGOK_SZAMA),0) as Átalgos  --sum(CSILLAGOK_SZAMA)/COUNT(*) valamiert mindig 3-asnak számolja mikor 3,5-nek kelle lennie, egyik sem mukodott\r\n",
                "FROM szallashely\r\n",
                "WHERE TIPUS not like '%panzió%'\r\n",
                "GROUP BY TIPUS\r\n",
                "HAVING Round(AVG(CSILLAGOK_SZAMA),0)>3"
            ],
            "metadata": {
                "azdata_cell_guid": "7d0dd1ce-87ab-43fc-97ee-ec2a5d4d3ee7",
                "language": "sql"
            },
            "outputs": [
                {
                    "output_type": "display_data",
                    "data": {
                        "text/html": "(0 rows affected)"
                    },
                    "metadata": {}
                },
                {
                    "output_type": "display_data",
                    "data": {
                        "text/html": "Total execution time: 00:00:00.004"
                    },
                    "metadata": {}
                },
                {
                    "output_type": "execute_result",
                    "metadata": {},
                    "execution_count": 21,
                    "data": {
                        "application/vnd.dataresource+json": {
                            "schema": {
                                "fields": [
                                    {
                                        "name": "tipus"
                                    },
                                    {
                                        "name": "Átalgos"
                                    }
                                ]
                            },
                            "data": []
                        },
                        "text/html": [
                            "<table>",
                            "<tr><th>tipus</th><th>Átalgos</th></tr>",
                            "</table>"
                        ]
                    }
                }
            ],
            "execution_count": 21
        },
        {
            "cell_type": "code",
            "source": [
                "--2. Feladat\r\n",
                "SELECT szall.Szallas_nev,szob.FEROHELY, szob.KLIMAS, szob.POTAGY, szob.SZALLAS_FK, szob.SZOBA_ID, szob.SZOBA_SZAMA, IIF(szall.TIPUS='panzió','igen','nem')\r\n",
                "FROM szoba szob JOIN szallashely szall ON szob.SZALLAS_FK = szall.SZALLAS_ID\r\n",
                "                JOIN Foglalas fog ON szob.SZOBA_ID = fog.SZOBA_FK\r\n",
                "WHERE szob.SZOBA_ID <> fog.SZOBA_FK --nem tudom, hogy mit jelent hogy nincsen foglalas, ha nincsen benne a szoba id a foglalas tablaban??\r\n",
                "--WHERE szob.SZOBA_ID not IN fog.SZOBA_FK"
            ],
            "metadata": {
                "azdata_cell_guid": "69cf0ea3-ea4e-4831-9ac4-88439e3e6b92",
                "language": "sql"
            },
            "outputs": [
                {
                    "output_type": "display_data",
                    "data": {
                        "text/html": "(0 rows affected)"
                    },
                    "metadata": {}
                },
                {
                    "output_type": "display_data",
                    "data": {
                        "text/html": "Total execution time: 00:00:00.007"
                    },
                    "metadata": {}
                },
                {
                    "output_type": "execute_result",
                    "metadata": {},
                    "execution_count": 22,
                    "data": {
                        "application/vnd.dataresource+json": {
                            "schema": {
                                "fields": [
                                    {
                                        "name": "Szallas_nev"
                                    },
                                    {
                                        "name": "FEROHELY"
                                    },
                                    {
                                        "name": "KLIMAS"
                                    },
                                    {
                                        "name": "POTAGY"
                                    },
                                    {
                                        "name": "SZALLAS_FK"
                                    },
                                    {
                                        "name": "SZOBA_ID"
                                    },
                                    {
                                        "name": "SZOBA_SZAMA"
                                    },
                                    {
                                        "name": "(No column name)"
                                    }
                                ]
                            },
                            "data": []
                        },
                        "text/html": [
                            "<table>",
                            "<tr><th>Szallas_nev</th><th>FEROHELY</th><th>KLIMAS</th><th>POTAGY</th><th>SZALLAS_FK</th><th>SZOBA_ID</th><th>SZOBA_SZAMA</th><th>(No column name)</th></tr>",
                            "</table>"
                        ]
                    }
                }
            ],
            "execution_count": 22
        }
    ]
}